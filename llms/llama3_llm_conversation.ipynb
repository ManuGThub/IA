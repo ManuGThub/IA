{
 "cells": [
  {
   "cell_type": "code",
   "execution_count": 1,
   "id": "c1ba1d92-0e5e-49c0-915f-a9119324e16c",
   "metadata": {},
   "outputs": [],
   "source": [
    "import ollama"
   ]
  },
  {
   "cell_type": "code",
   "execution_count": 2,
   "id": "62bcd43b-44ce-41d2-9abc-b5796948f2a0",
   "metadata": {},
   "outputs": [],
   "source": [
    "def print_conversation(conversation):\n",
    "    for interaction in conversation:\n",
    "        print(interaction)"
   ]
  },
  {
   "cell_type": "code",
   "execution_count": 3,
   "id": "07a16535-e939-49bb-995a-797496e9a952",
   "metadata": {},
   "outputs": [],
   "source": [
    "class LLM:\n",
    "    def __init__(self, name, role_prompt):\n",
    "        # Initialize LLM object\n",
    "        self.name = name\n",
    "        self.conversation = [{'role': 'system', 'content': role_prompt}]\n",
    "\n",
    "        \n",
    "    def interact_with_llm(self,llm,message):\n",
    "\n",
    "        #print the interaction message     \n",
    "        print(llm.name+ \" - says: \"+message+\"\\n\")\n",
    "        \n",
    "        # append the received message  to the conversation\n",
    "        self.conversation.append({\"role\": \"user\", \"content\": message})\n",
    "        \n",
    "        # send the whole conversation to Llama 3.2\n",
    "        # remember the whole conversation travels on every interaction\n",
    "        response = ollama.chat(model='llama3.2', messages=self.conversation)\n",
    "        \n",
    "        # get response from Llama 3.2 model\n",
    "        response_message = response['message']['content']\n",
    "\n",
    "        #append also this message to the conversation \n",
    "        self.conversation.append({\"role\": \"system\", \"content\": response_message})\n",
    "        \n",
    "        return response_message\n",
    "       \n",
    "        "
   ]
  },
  {
   "cell_type": "code",
   "execution_count": 4,
   "id": "5da20798-92d5-4726-b2f8-c1b31dfa23ae",
   "metadata": {},
   "outputs": [],
   "source": [
    "def start_conversation(interactions, llm1, llm2):\n",
    "    \n",
    "    for i in range(interactions):\n",
    "        # LLM2 interaction\n",
    "        # if its first interaction we start salutating\n",
    "        if i == 0:\n",
    "            llm1_response = llm1.interact_with_llm(llm2,\"hi! my name is \"+llm2.name)\n",
    "        else:\n",
    "            #otherwise we get into account the llm response\n",
    "            llm1_response = llm1.interact_with_llm(llm2,llm2_response)\n",
    "\n",
    "        # LLM 1 interaction responde\n",
    "        llm2_response = llm2.interact_with_llm(llm1,llm1_response)\n",
    "        \n",
    "        # UNCOMMENT THIS LINE FOR DEBUGGING\n",
    "        #print_conversation(llm2.conversation)"
   ]
  },
  {
   "cell_type": "code",
   "execution_count": 5,
   "id": "69d1bab4-43aa-4d6c-aa61-90a7eda224b8",
   "metadata": {},
   "outputs": [
    {
     "name": "stdout",
     "output_type": "stream",
     "text": [
      "LLM-2 - says: hi! my name is LLM-2\n",
      "\n",
      "LLM-1 - says: Hola LLM-2, bienvenido. Tengo una variedad fresca y deliciosa de frutas para ti: manzanas, plátanos, naranjas... ¿Qué busca?\n",
      "\n",
      "LLM-2 - says: Soy un modelo de lenguaje, no tengo gusto ni apetito, pero puedo recomendarte libros sobre frutas y cocina.\n",
      "\n",
      "LLM-1 - says: Genial idea, te recomiendo \"La gran enciclopedia culinaria\" que incluye recetas con plátanos y manzanas frescas.\n",
      "\n",
      "LLM-2 - says: Me parece un buen inicio. Sí, buscaré en ese libro recetas para utilizar tus frutas frescas. ¡Gracias!\n",
      "\n",
      "LLM-1 - says: ¡De nada! Llevo todos los días frutas frescas, espero encontrar algo para ti. ¿Manzanas o plátanos te gustan más?\n",
      "\n",
      "LLM-2 - says: Ambas son deliciosas, pero me interesa receta de manzana en relé. Busco algo rápido y fácil.\n",
      "\n",
      "LLM-1 - says: Claro, el clásico \"Tarta de Manzana\" o simplemente rebanar una manzana con un poco de mantequilla y azúcar es una excelente opción rápida.\n",
      "\n",
      "LLM-2 - says: Me encanta la simplicidad, ¡el manjar del cielo! La tarta de manzana es clásica, pero el simple plátano con mantequilla y azúcar también es delicioso.\n",
      "\n",
      "LLM-1 - says: ¡Exacto! Ambas son opciones rápidas y fáciles de preparar, perfectas para un vendedor de fruta como tú. ¿Quieres comprarlas?\n",
      "\n"
     ]
    }
   ],
   "source": [
    "\n",
    "# create the prompts to initialize the LLMs\n",
    "llm1_role_prompt = 'eres un vendedor de fruta, limitas tus respuestas a 20 palabras.'\n",
    "llm2_role_prompt = 'eres un tipo interesado en libros, limitas tus respuestas a 20 palabras.'\n",
    "\n",
    "\n",
    "# create the LLM objects and initialize them\n",
    "llm1 = LLM(\"LLM-1\", llm1_role_prompt)\n",
    "llm2 = LLM(\"LLM-2\", llm2_role_prompt)\n",
    "\n",
    "num_of_interactions = 5\n",
    "\n",
    "start_conversation(num_of_interactions, llm1, llm2)"
   ]
  }
 ],
 "metadata": {
  "kernelspec": {
   "display_name": "Python 3 (ipykernel)",
   "language": "python",
   "name": "python3"
  },
  "language_info": {
   "codemirror_mode": {
    "name": "ipython",
    "version": 3
   },
   "file_extension": ".py",
   "mimetype": "text/x-python",
   "name": "python",
   "nbconvert_exporter": "python",
   "pygments_lexer": "ipython3",
   "version": "3.11.11"
  }
 },
 "nbformat": 4,
 "nbformat_minor": 5
}
