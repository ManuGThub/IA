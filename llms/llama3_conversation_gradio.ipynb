{
 "cells": [
  {
   "cell_type": "code",
   "execution_count": 1,
   "id": "c1ba1d92-0e5e-49c0-915f-a9119324e16c",
   "metadata": {},
   "outputs": [],
   "source": [
    "import ollama"
   ]
  },
  {
   "cell_type": "code",
   "execution_count": 2,
   "id": "62bcd43b-44ce-41d2-9abc-b5796948f2a0",
   "metadata": {},
   "outputs": [],
   "source": [
    "def print_conversation(conversation):\n",
    "    for interaction in conversation:\n",
    "        print(interaction)"
   ]
  },
  {
   "cell_type": "code",
   "execution_count": 3,
   "id": "07a16535-e939-49bb-995a-797496e9a952",
   "metadata": {},
   "outputs": [],
   "source": [
    "class LLM:\n",
    "    def __init__(self, name, role_prompt):\n",
    "\n",
    "        role_prompt+=\", and you limit your answers up to 20 words\"\n",
    "        \n",
    "        # Initialize LLM object\n",
    "        self.name = name\n",
    "        self.conversation = [{'role': 'system', 'content': role_prompt}]\n",
    "\n",
    "        \n",
    "    def interact_with_llm(self,message):\n",
    "\n",
    "        #print the interaction message     \n",
    "        #print(llm.name+ \" - says: \"+message+\"\\n\")\n",
    "        \n",
    "        \n",
    "        # append the received message  to the conversation\n",
    "        self.conversation.append({\"role\": \"user\", \"content\": message})\n",
    "        \n",
    "        # send the whole conversation to Llama 3.2\n",
    "        # remember the whole conversation travels on every interaction\n",
    "        response = ollama.chat(model='llama3.2', messages=self.conversation)\n",
    "        \n",
    "        # get response from Llama 3.2 model\n",
    "        response_message = response['message']['content']\n",
    "\n",
    "        #append also this message to the conversation \n",
    "        self.conversation.append({\"role\": \"system\", \"content\": response_message})\n",
    "\n",
    "        return response_message\n",
    "       \n",
    "        "
   ]
  },
  {
   "cell_type": "code",
   "execution_count": 4,
   "id": "5da20798-92d5-4726-b2f8-c1b31dfa23ae",
   "metadata": {},
   "outputs": [],
   "source": [
    "def start_conversation(interactions, llm1_name, llm1_prompt,llm2_name,llm2_prompt):\n",
    "\n",
    "    interactions = int(interactions)\n",
    "    interaction_answers = \"\"\n",
    "    # create the LLM objects and initialize them\n",
    "    llm1 = LLM(llm1_name, llm1_prompt)\n",
    "    llm2 = LLM(llm2_name, llm2_prompt)\n",
    "\n",
    "    for i in range(interactions):\n",
    "        # LLM2 interaction\n",
    "        # if its first interaction we start salutating\n",
    "        if i == 0:\n",
    "            llm1_answer = llm1.interact_with_llm(\"hi! my name is \"+llm2.name)\n",
    "        else:\n",
    "            #otherwise we get into account the llm response\n",
    "            llm1_answer = llm1.interact_with_llm(llm2_answer)\n",
    "\n",
    "        # LLM 1 interaction responde\n",
    "        llm2_answer = llm2.interact_with_llm(llm1_answer)\n",
    "        \n",
    "        # UNCOMMENT THIS LINE FOR DEBUGGING\n",
    "        #print_conversation(llm2.conversation)\n",
    "\n",
    "        print_string = (\n",
    "                       f\"**{llm1.name} - says:** {llm1_answer}\\n\\n\"\\\n",
    "                       f\"**{llm2.name} - says:** {llm2_answer}\\n\\n\"\n",
    "        )\n",
    "        interaction_answers += print_string\n",
    "\n",
    "        yield interaction_answers\n",
    "        "
   ]
  },
  {
   "cell_type": "code",
   "execution_count": 5,
   "id": "de6f526b-7971-4188-b465-03931f3b9a08",
   "metadata": {},
   "outputs": [
    {
     "name": "stdout",
     "output_type": "stream",
     "text": [
      "* Running on local URL:  http://127.0.0.1:7860\n",
      "\n",
      "To create a public link, set `share=True` in `launch()`.\n"
     ]
    },
    {
     "data": {
      "text/html": [
       "<div><iframe src=\"http://127.0.0.1:7860/\" width=\"100%\" height=\"500\" allow=\"autoplay; camera; microphone; clipboard-read; clipboard-write;\" frameborder=\"0\" allowfullscreen></iframe></div>"
      ],
      "text/plain": [
       "<IPython.core.display.HTML object>"
      ]
     },
     "metadata": {},
     "output_type": "display_data"
    },
    {
     "data": {
      "text/plain": []
     },
     "execution_count": 5,
     "metadata": {},
     "output_type": "execute_result"
    }
   ],
   "source": [
    "import gradio as gr\n",
    "\n",
    "# Crear la interfaz\n",
    "demo = gr.Interface(\n",
    "    fn=start_conversation,  # Función que se va a utilizar\n",
    "    inputs=[    \n",
    "        gr.Textbox(label=\"num. of interactions\"),\n",
    "        gr.Textbox(label=\"LLM1 Name\"),\n",
    "        gr.Textbox(label=\"LLM1 Initial Prompt\"),\n",
    "        gr.Textbox(label=\"LLM2 Name\"),        \n",
    "        gr.Textbox(label=\"LLM2 Initial Prompt\")\n",
    "    ],\n",
    "    outputs=gr.Textbox(label=\"answers textbox\", interactive=False),\n",
    "    flagging_mode = \"never\",\n",
    "    title=\"LLM conversation\",  # Título de la interfaz\n",
    "    description=\"Introduce LLMs names and initial prompts!\"  # Descripción\n",
    ")\n",
    "\n",
    "# Ejecutar la interfaz\n",
    "demo.launch()"
   ]
  }
 ],
 "metadata": {
  "kernelspec": {
   "display_name": "Python 3 (ipykernel)",
   "language": "python",
   "name": "python3"
  },
  "language_info": {
   "codemirror_mode": {
    "name": "ipython",
    "version": 3
   },
   "file_extension": ".py",
   "mimetype": "text/x-python",
   "name": "python",
   "nbconvert_exporter": "python",
   "pygments_lexer": "ipython3",
   "version": "3.11.11"
  }
 },
 "nbformat": 4,
 "nbformat_minor": 5
}
